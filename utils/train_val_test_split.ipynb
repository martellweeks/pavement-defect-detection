{
 "cells": [
  {
   "cell_type": "code",
   "execution_count": 71,
   "metadata": {},
   "outputs": [],
   "source": [
    "from sklearn.model_selection import train_test_split\n",
    "import pandas as pd\n",
    "from pycocotools.coco import COCO\n",
    "from glob import glob\n",
    "import shutil\n",
    "import os\n",
    "from tqdm import tqdm\n",
    "import json"
   ]
  },
  {
   "cell_type": "code",
   "execution_count": 72,
   "metadata": {},
   "outputs": [
    {
     "name": "stdout",
     "output_type": "stream",
     "text": [
      "2342\n",
      "2342\n",
      "A14EBWBJ47AWoolpittoHaugleyBridge_sideview_000008_000544_Lane1.jpg\n"
     ]
    }
   ],
   "source": [
    "src_path = \"/Users/martellweeks/Project/dataset/National Highways/2D Pavement Labels/A14 EB-WB J47A (Woolpit) to Haugley Bridge Lane 1/\"\n",
    "image_files = glob(os.path.join(src_path, \"img/*.jpg\"))\n",
    "print(len(image_files))\n",
    "\n",
    "image_metadata = pd.read_csv(os.path.join(src_path, \"reference.csv\"))\n",
    "image_names = image_metadata[image_metadata.file_name.str.contains(\"Lane1\")].file_name.tolist()\n",
    "print(len(image_names))\n",
    "print(image_names[0])\n",
    "\n",
    "assert(len(image_files) == len(image_names))\n"
   ]
  },
  {
   "cell_type": "code",
   "execution_count": 73,
   "metadata": {},
   "outputs": [
    {
     "name": "stdout",
     "output_type": "stream",
     "text": [
      "1639 492 211 2342\n"
     ]
    }
   ],
   "source": [
    "# Train : Val : Test = 7 : 2 : 1\n",
    "train_names, test_names = train_test_split(image_names, test_size=0.3, random_state=777, shuffle=True)\n",
    "val_names, test_names = train_test_split(test_names, test_size=0.3, random_state=777, shuffle=True)\n",
    "\n",
    "print(len(train_names), len(val_names), len(test_names), sum([len(train_names), len(val_names), len(test_names)]))"
   ]
  },
  {
   "cell_type": "code",
   "execution_count": 74,
   "metadata": {},
   "outputs": [],
   "source": [
    "def batch_copy_files(file_name: list, src_path: str, dest_path: str):\n",
    "    for file in tqdm(file_name):\n",
    "        shutil.copy(os.path.join(src_path, file), dest_path)"
   ]
  },
  {
   "cell_type": "code",
   "execution_count": 75,
   "metadata": {},
   "outputs": [
    {
     "name": "stdout",
     "output_type": "stream",
     "text": [
      "loading annotations into memory...\n",
      "Done (t=0.01s)\n",
      "creating index...\n",
      "index created!\n"
     ]
    }
   ],
   "source": [
    "coco_file_path = os.path.join(src_path, \"annotation/instances_default.json\")\n",
    "coco_annotation = COCO(annotation_file=coco_file_path)"
   ]
  },
  {
   "cell_type": "code",
   "execution_count": 76,
   "metadata": {},
   "outputs": [
    {
     "name": "stdout",
     "output_type": "stream",
     "text": [
      "[{'id': 1, 'name': 'bleeding', 'supercategory': ''}, {'id': 2, 'name': 'raveling', 'supercategory': ''}, {'id': 3, 'name': 'crack_transverse', 'supercategory': ''}, {'id': 4, 'name': 'crack_longitudinal', 'supercategory': ''}, {'id': 5, 'name': 'crack_edge', 'supercategory': ''}, {'id': 6, 'name': 'crack_alligator', 'supercategory': ''}, {'id': 7, 'name': 'crack_block', 'supercategory': ''}, {'id': 8, 'name': 'shoving', 'supercategory': ''}, {'id': 9, 'name': 'rutting', 'supercategory': ''}, {'id': 10, 'name': 'potholes', 'supercategory': ''}, {'id': 11, 'name': 'patch', 'supercategory': ''}, {'id': 12, 'name': 'unknown', 'supercategory': ''}, {'id': 13, 'name': 'crack_corner', 'supercategory': ''}, {'id': 14, 'name': 'spalling', 'supercategory': ''}]\n"
     ]
    }
   ],
   "source": [
    "cat_ids = coco_annotation.getCatIds()\n",
    "cats = coco_annotation.loadCats(cat_ids)\n",
    "print(cats)"
   ]
  },
  {
   "cell_type": "code",
   "execution_count": 77,
   "metadata": {},
   "outputs": [
    {
     "name": "stdout",
     "output_type": "stream",
     "text": [
      "dict_keys(['licenses', 'info', 'categories', 'images', 'annotations'])\n"
     ]
    }
   ],
   "source": [
    "coco_json_file = open(coco_file_path)\n",
    "coco_json = json.load(coco_json_file)\n",
    "\n",
    "print(coco_json.keys())"
   ]
  },
  {
   "cell_type": "code",
   "execution_count": 78,
   "metadata": {},
   "outputs": [
    {
     "name": "stdout",
     "output_type": "stream",
     "text": [
      "<class 'list'> {'id': 1, 'width': 1232, 'height': 1028, 'file_name': 'A14EBWBJ47AWoolpittoHaugleyBridge_sideview_000008_000544_Lane1.jpg', 'license': 0, 'flickr_url': '', 'coco_url': '', 'date_captured': 0}\n",
      "<class 'list'> {'id': 1, 'image_id': 5, 'category_id': 4, 'segmentation': [[663.0, 9.31, 732.46, 957.05, 771.05, 963.22, 692.33, 12.4]], 'area': 31932.0, 'bbox': [663.0, 9.31, 108.05, 953.91], 'iscrowd': 0, 'attributes': {'occluded': False}}\n"
     ]
    }
   ],
   "source": [
    "print(type(coco_json[\"images\"]), coco_json[\"images\"][0])\n",
    "print(type(coco_json[\"annotations\"]), coco_json[\"annotations\"][0])"
   ]
  },
  {
   "cell_type": "code",
   "execution_count": 79,
   "metadata": {},
   "outputs": [],
   "source": [
    "def coco_split(file_name: list, coco_json: dict):\n",
    "    coco_output = dict()\n",
    "    coco_output[\"licenses\"] = coco_json[\"licenses\"]\n",
    "    coco_output[\"info\"] = coco_json[\"info\"]\n",
    "    coco_output[\"categories\"] = coco_json[\"categories\"]\n",
    "    coco_output[\"images\"] = list()\n",
    "    coco_output[\"annotations\"] = list()\n",
    "    ids = list()\n",
    "    for image in coco_json[\"images\"]:\n",
    "        if image[\"file_name\"] in file_name:\n",
    "            coco_output[\"images\"].append(image)\n",
    "            ids.append(image[\"id\"])\n",
    "    for ann in coco_json[\"annotations\"]:\n",
    "        if ann[\"image_id\"] in ids:\n",
    "            coco_output[\"annotations\"].append(ann)\n",
    "    return coco_output"
   ]
  },
  {
   "cell_type": "code",
   "execution_count": 80,
   "metadata": {},
   "outputs": [
    {
     "name": "stdout",
     "output_type": "stream",
     "text": [
      "[{'name': '', 'id': 0, 'url': ''}] {'contributor': '', 'date_created': '', 'description': '', 'url': '', 'version': '', 'year': ''} [{'id': 1, 'name': 'bleeding', 'supercategory': ''}, {'id': 2, 'name': 'raveling', 'supercategory': ''}, {'id': 3, 'name': 'crack_transverse', 'supercategory': ''}, {'id': 4, 'name': 'crack_longitudinal', 'supercategory': ''}, {'id': 5, 'name': 'crack_edge', 'supercategory': ''}, {'id': 6, 'name': 'crack_alligator', 'supercategory': ''}, {'id': 7, 'name': 'crack_block', 'supercategory': ''}, {'id': 8, 'name': 'shoving', 'supercategory': ''}, {'id': 9, 'name': 'rutting', 'supercategory': ''}, {'id': 10, 'name': 'potholes', 'supercategory': ''}, {'id': 11, 'name': 'patch', 'supercategory': ''}, {'id': 12, 'name': 'unknown', 'supercategory': ''}, {'id': 13, 'name': 'crack_corner', 'supercategory': ''}, {'id': 14, 'name': 'spalling', 'supercategory': ''}]\n"
     ]
    }
   ],
   "source": [
    "coco_train = coco_split(file_name=train_names, coco_json=coco_json)\n",
    "coco_val = coco_split(file_name=val_names, coco_json=coco_json)\n",
    "coco_test = coco_split(file_name=test_names, coco_json=coco_json)\n",
    "\n",
    "print(coco_train[\"licenses\"], coco_train[\"info\"], coco_train[\"categories\"])\n",
    "assert len(train_names) == len(coco_train[\"images\"])"
   ]
  },
  {
   "cell_type": "code",
   "execution_count": 81,
   "metadata": {},
   "outputs": [],
   "source": [
    "with open(\"../data/train/train.json\", \"w\") as outfile:\n",
    "    json.dump(coco_train, outfile)\n",
    "\n",
    "with open(\"../data/val/val.json\", \"w\") as outfile:\n",
    "    json.dump(coco_val, outfile)\n",
    "\n",
    "with open(\"../data/test/test.json\", \"w\") as outfile:\n",
    "    json.dump(coco_test, outfile)"
   ]
  },
  {
   "cell_type": "code",
   "execution_count": 83,
   "metadata": {},
   "outputs": [
    {
     "name": "stderr",
     "output_type": "stream",
     "text": [
      "100%|██████████| 1639/1639 [00:02<00:00, 665.58it/s]\n",
      "100%|██████████| 492/492 [00:00<00:00, 644.01it/s]\n",
      "100%|██████████| 211/211 [00:00<00:00, 779.42it/s]\n"
     ]
    }
   ],
   "source": [
    "batch_copy_files(file_name=train_names, src_path=os.path.join(src_path, \"img/\"), dest_path=\"../data/train/\")\n",
    "batch_copy_files(file_name=val_names, src_path=os.path.join(src_path, \"img/\"), dest_path=\"../data/val/\")\n",
    "batch_copy_files(file_name=test_names, src_path=os.path.join(src_path, \"img/\"), dest_path=\"../data/test/\")"
   ]
  }
 ],
 "metadata": {
  "kernelspec": {
   "display_name": "Python 3.9.13 ('torchenv')",
   "language": "python",
   "name": "python3"
  },
  "language_info": {
   "codemirror_mode": {
    "name": "ipython",
    "version": 3
   },
   "file_extension": ".py",
   "mimetype": "text/x-python",
   "name": "python",
   "nbconvert_exporter": "python",
   "pygments_lexer": "ipython3",
   "version": "3.9.13"
  },
  "orig_nbformat": 4,
  "vscode": {
   "interpreter": {
    "hash": "f236a59d749daa57b9b426d2513743da14b3dd7a4b8fba1bce8c179068ad351a"
   }
  }
 },
 "nbformat": 4,
 "nbformat_minor": 2
}
